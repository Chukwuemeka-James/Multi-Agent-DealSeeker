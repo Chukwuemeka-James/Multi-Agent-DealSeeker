{
 "cells": [
  {
   "cell_type": "markdown",
   "id": "a72045c4",
   "metadata": {},
   "source": [
    "### **Advanced Price Estimation with RAG and Ensemble Learning**\n",
    "\n",
    "#### **Objectives**\n",
    "1. Retrieval-Augmented Generation (RAG) and its application in price estimation.\n",
    "2. Train and evaluate a Random Forest model using transformer-based embeddings.\n",
    "3. Implement an ensemble model to combine multiple pricing strategies for improved predictions.\n",
    "4. Utilize ChromaDB for efficient data storage and retrieval.\n",
    "5. Compare different models (Specialist, Frontier, Random Forest, and Ensemble) and analyze their performance.\n",
    "\n",
    "\n",
    "### **1. Importing Required Libraries**"
   ]
  },
  {
   "cell_type": "code",
   "execution_count": null,
   "id": "7456598d",
   "metadata": {},
   "outputs": [],
   "source": [
    "import os\n",
    "import re\n",
    "import math\n",
    "import json\n",
    "from tqdm import tqdm\n",
    "import random\n",
    "from dotenv import load_dotenv\n",
    "from huggingface_hub import login\n",
    "import numpy as np\n",
    "import pickle\n",
    "from openai import OpenAI\n",
    "from sentence_transformers import SentenceTransformer\n",
    "from datasets import load_dataset\n",
    "import chromadb\n",
    "from utils.items import Item\n",
    "from utils.testing import Tester\n",
    "import pandas as pd\n",
    "import numpy as np\n",
    "from sklearn.ensemble import RandomForestRegressor\n",
    "from sklearn.linear_model import LinearRegression\n",
    "from sklearn.metrics import mean_squared_error, r2_score\n",
    "import joblib"
   ]
  },
  {
   "cell_type": "markdown",
   "id": "4d4f9dd2",
   "metadata": {},
   "source": [
    "### **2. Setting Up Environment Variables**\n"
   ]
  },
  {
   "cell_type": "code",
   "execution_count": null,
   "id": "97025ce9",
   "metadata": {},
   "outputs": [],
   "source": [
    "load_dotenv(override=True)\n",
    "os.environ['OPENAI_API_KEY'] = os.getenv('OPENAI_API_KEY')\n",
    "os.environ['HF_TOKEN'] = os.getenv('HF_TOKEN')"
   ]
  },
  {
   "cell_type": "code",
   "execution_count": null,
   "metadata": {},
   "outputs": [],
   "source": [
    "# CONSTANTS\n",
    "\n",
    "QUESTION = \"How much does this cost to the nearest dollar?\\n\\n\"\n",
    "DB = \"products_vectorstore\""
   ]
  },
  {
   "cell_type": "markdown",
   "id": "65dc185f",
   "metadata": {},
   "source": [
    "### **3. Loading Data into ChromaDB**\n"
   ]
  },
  {
   "cell_type": "code",
   "execution_count": null,
   "id": "a42ae64d",
   "metadata": {},
   "outputs": [],
   "source": [
    "# Load in the test pickle file:\n",
    "\n",
    "with open('test.pkl', 'rb') as file:\n",
    "    test = pickle.load(file)"
   ]
  },
  {
   "cell_type": "code",
   "execution_count": null,
   "id": "94bbf4bd",
   "metadata": {},
   "outputs": [],
   "source": [
    "# - Initializes a persistent vector database\n",
    "\n",
    "client = chromadb.PersistentClient(path='products_vectorstore')\n",
    "collection = client.get_or_create_collection('products')"
   ]
  },
  {
   "cell_type": "markdown",
   "id": "635b0981",
   "metadata": {},
   "source": [
    "### **4. Extracting Data from ChromaDB**\n"
   ]
  },
  {
   "cell_type": "code",
   "execution_count": null,
   "metadata": {},
   "outputs": [],
   "source": [
    "result = collection.get(include=['embeddings', 'documents', 'metadatas'])\n",
    "vectors = np.array(result['embeddings'])\n",
    "documents = result['documents']\n",
    "prices = [metadata['price'] for metadata in result['metadatas']]"
   ]
  },
  {
   "cell_type": "markdown",
   "id": "ec350ab8",
   "metadata": {},
   "source": [
    "**Explanation:**\n",
    "- Retrieves **stored embeddings** and their corresponding product prices.\n",
    "- `vectors` store numerical representations of product descriptions.\n",
    "\n",
    "\n",
    "### **5. Training a Random Forest Model**\n",
    "- Let's train a **Random Forest model** using product vectors as input. Then saves the model for later use."
   ]
  },
  {
   "cell_type": "code",
   "execution_count": null,
   "id": "32f0b13e",
   "metadata": {},
   "outputs": [],
   "source": [
    "# This next line takes an hour on my M1 Mac!\n",
    "\n",
    "rf_model = RandomForestRegressor(n_estimators=100, random_state=42, n_jobs=-1)\n",
    "rf_model.fit(vectors, prices)"
   ]
  },
  {
   "cell_type": "code",
   "execution_count": null,
   "id": "fb7df13d",
   "metadata": {},
   "outputs": [],
   "source": [
    "# Save the model to a file\n",
    "\n",
    "joblib.dump(rf_model, 'random_forest_model.pkl')"
   ]
  },
  {
   "cell_type": "markdown",
   "id": "223e3f97",
   "metadata": {},
   "source": [
    "### **6. Implementing an Ensemble Pricing Strategy**\n",
    "#### **Loading Specialized Agents**"
   ]
  },
  {
   "cell_type": "code",
   "execution_count": null,
   "id": "285d094f",
   "metadata": {},
   "outputs": [],
   "source": [
    "from Ensemble_Agent.specialist_agent import SpecialistAgent\n",
    "from Ensemble_Agent.frontier_agent import FrontierAgent\n",
    "from Ensemble_Agent.random_forest_agent import RandomForestAgent"
   ]
  },
  {
   "cell_type": "markdown",
   "id": "262b2c46",
   "metadata": {},
   "source": [
    "#### **Defining Individual Price Predictions**\n"
   ]
  },
  {
   "cell_type": "code",
   "execution_count": null,
   "id": "7578c0b5",
   "metadata": {},
   "outputs": [],
   "source": [
    "specialist = SpecialistAgent()\n",
    "frontier = FrontierAgent(collection)\n",
    "random_forest = RandomForestAgent()"
   ]
  },
  {
   "cell_type": "markdown",
   "id": "e7caab66",
   "metadata": {},
   "source": [
    "- **Each above agent provides `different pricing predictions` based on distinct strategies.**\n",
    "\n",
    "---\n",
    "\n",
    "#### **Combining Predictions into an Ensemble Model**\n",
    "\n",
    "- Let's creates a **feature matrix** with different price predictions.\n",
    "- This feature matrix will use **min and max price values** as additional features."
   ]
  },
  {
   "cell_type": "code",
   "execution_count": null,
   "id": "9430c956",
   "metadata": {},
   "outputs": [],
   "source": [
    "def description(item):\n",
    "    return item.prompt.split(\"to the nearest dollar?\\n\\n\")[1].split(\"\\n\\nPrice is $\")[0]"
   ]
  },
  {
   "cell_type": "code",
   "execution_count": null,
   "id": "12ce4191",
   "metadata": {},
   "outputs": [],
   "source": [
    "def rf(item):\n",
    "    return random_forest.price(description(item))"
   ]
  },
  {
   "cell_type": "code",
   "execution_count": null,
   "id": "3ab538e5",
   "metadata": {},
   "outputs": [],
   "source": [
    "Tester.test(rf, test)"
   ]
  },
  {
   "cell_type": "code",
   "execution_count": null,
   "metadata": {},
   "outputs": [],
   "source": [
    "product = \"Quadcast HyperX condenser mic for high quality audio for podcasting\""
   ]
  },
  {
   "cell_type": "code",
   "execution_count": null,
   "id": "e0868a31",
   "metadata": {},
   "outputs": [],
   "source": [
    "print(specialist.price(product))\n",
    "print(frontier.price(product))\n",
    "print(random_forest.price(product))"
   ]
  },
  {
   "cell_type": "code",
   "execution_count": null,
   "id": "bc3d20b9",
   "metadata": {},
   "outputs": [],
   "source": [
    "specialists = []\n",
    "frontiers = []\n",
    "random_forests = []\n",
    "prices = []\n",
    "for item in tqdm(test[1000:1250]):\n",
    "    text = description(item)\n",
    "    specialists.append(specialist.price(text))\n",
    "    frontiers.append(frontier.price(text))\n",
    "    random_forests.append(random_forest.price(text))\n",
    "    prices.append(item.price)"
   ]
  },
  {
   "cell_type": "code",
   "execution_count": null,
   "id": "99e29f48",
   "metadata": {},
   "outputs": [],
   "source": [
    "mins = [min(s,f,r) for s,f,r in zip(specialists, frontiers, random_forests)]\n",
    "maxes = [max(s,f,r) for s,f,r in zip(specialists, frontiers, random_forests)]\n",
    "\n",
    "X = pd.DataFrame({\n",
    "    'Specialist': specialists,\n",
    "    'Frontier': frontiers,\n",
    "    'RandomForest': random_forests,\n",
    "    'Min': mins,\n",
    "    'Max': maxes,\n",
    "})\n",
    "\n",
    "# Convert y to a Series\n",
    "y = pd.Series(prices)"
   ]
  },
  {
   "cell_type": "markdown",
   "id": "5797f6fa",
   "metadata": {},
   "source": [
    "#### **Training a Linear Regression Model for Ensemble Learning**\n"
   ]
  },
  {
   "cell_type": "code",
   "execution_count": null,
   "id": "1d9c25c7",
   "metadata": {},
   "outputs": [],
   "source": [
    "# Train a Linear Regression\n",
    "np.random.seed(42)\n",
    "\n",
    "lr = LinearRegression()\n",
    "lr.fit(X, y)\n",
    "\n",
    "feature_columns = X.columns.tolist()\n",
    "\n",
    "for feature, coef in zip(feature_columns, lr.coef_):\n",
    "    print(f\"{feature}: {coef:.2f}\")\n",
    "print(f\"Intercept={lr.intercept_:.2f}\")"
   ]
  },
  {
   "cell_type": "code",
   "execution_count": null,
   "metadata": {},
   "outputs": [],
   "source": [
    "joblib.dump(lr, 'ensemble_model.pkl')"
   ]
  },
  {
   "cell_type": "markdown",
   "id": "45b8daff",
   "metadata": {},
   "source": [
    "**Explanation:**\n",
    "- A **Linear Regression model** learns optimal weightings for different pricing strategies.\n",
    "- The trained model is saved for future use.\n",
    "\n",
    "### **7. Evaluating the Ensemble Model**\n"
   ]
  },
  {
   "cell_type": "code",
   "execution_count": null,
   "id": "1eca5738",
   "metadata": {},
   "outputs": [],
   "source": [
    "from agents.ensemble_agent import EnsembleAgent\n",
    "ensemble = EnsembleAgent(collection)"
   ]
  },
  {
   "cell_type": "code",
   "execution_count": null,
   "id": "8ad2b311",
   "metadata": {},
   "outputs": [],
   "source": [
    "ensemble.price(product)"
   ]
  },
  {
   "cell_type": "markdown",
   "id": "de3b2ef3",
   "metadata": {},
   "source": [
    "**Explanation:**\n",
    "- The ensemble model is tested using predefined test cases.\n",
    "- The **best price estimate** is determined by combining predictions from multiple models."
   ]
  },
  {
   "cell_type": "code",
   "execution_count": null,
   "id": "eebf2617",
   "metadata": {},
   "outputs": [],
   "source": [
    "def ensemble_pricer(item):\n",
    "    return ensemble.price(description(item))"
   ]
  },
  {
   "cell_type": "code",
   "execution_count": null,
   "id": "13da5330",
   "metadata": {},
   "outputs": [],
   "source": [
    "Tester.test(ensemble_pricer, test)"
   ]
  },
  {
   "cell_type": "code",
   "execution_count": null,
   "metadata": {},
   "outputs": [],
   "source": []
  }
 ],
 "metadata": {
  "kernelspec": {
   "display_name": "Python 3 (ipykernel)",
   "language": "python",
   "name": "python3"
  },
  "language_info": {
   "codemirror_mode": {
    "name": "ipython",
    "version": 3
   },
   "file_extension": ".py",
   "mimetype": "text/x-python",
   "name": "python",
   "nbconvert_exporter": "python",
   "pygments_lexer": "ipython3",
   "version": "3.11.11"
  }
 },
 "nbformat": 4,
 "nbformat_minor": 5
}
