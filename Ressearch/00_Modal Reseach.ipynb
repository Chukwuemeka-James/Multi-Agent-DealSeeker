{
 "cells": [
  {
   "cell_type": "markdown",
   "id": "591bd46d",
   "metadata": {},
   "source": [
    "## **Multi-Agent DeelSeeker - Modal Research Notebook**\n",
    "\n",
    "This notebook documents key steps in the research process for building the Multi-Agent DeelSeeker project.\n",
    "It includes code for integrating Modal services, deploying AI agents, and interacting with Llama models."
   ]
  },
  {
   "cell_type": "markdown",
   "id": "e4e37e28",
   "metadata": {},
   "source": [
    "### **Introduction to Modal**  \n",
    "\n",
    "[Modal](https://modal.com/docs) is a serverless computing platform that allows developers to build, deploy, and run machine learning and AI applications in the cloud without managing infrastructure. It provides a seamless way to run Python code in the cloud, making it ideal for deploying ML models, APIs, and background jobs efficiently.  \n",
    "\n",
    "\n",
    "### **Key Features of Modal**  \n",
    "\n",
    "1. **Serverless Execution**  \n",
    "   - No need to manage servers or cloud instances; Modal automatically handles resource allocation.  \n",
    "   \n",
    "2. **Function and Class-Based Deployment**  \n",
    "   - Supports both function-level execution (`modal.Function`) and class-based services (`modal.Cls`).  \n",
    "\n",
    "3. **Efficient Scaling**  \n",
    "   - Automatically scales resources based on workload, making it cost-effective for AI applications.  \n",
    "\n",
    "4. **Seamless Integration with Python**  \n",
    "   - Allows you to deploy Python scripts and modules with minimal changes using `modal.App`.  \n",
    "\n",
    "5. **Secure Secret Management**  \n",
    "   - Securely store and use API keys (e.g., Hugging Face, OpenAI) using Modal’s built-in secret management.  \n",
    "\n",
    "6. **Region-Specific Execution**  \n",
    "   - Deploy workloads to different geographical regions for optimized performance.  \n",
    "\n",
    "---\n",
    "\n",
    "### **Basic Workflow in Modal**  \n",
    "\n",
    "1. **Install Modal**  \n",
    "   ```bash\n",
    "   pip install modal\n",
    "   ```\n",
    "\n",
    "2. **Create a Modal App**  \n",
    "   ```python\n",
    "   import modal\n",
    "   \n",
    "   app = modal.App(\"my_modal_app\")\n",
    "   ```\n",
    "\n",
    "3. **Define and Deploy a Function**  \n",
    "   ```python\n",
    "   @app.function()\n",
    "   def greet(name: str):\n",
    "       return f\"Hello, {name}!\"\n",
    "   ```\n",
    "\n",
    "4. **Run the Function Locally or Remotely**  \n",
    "   ```python\n",
    "   with app.run():\n",
    "       response = greet.remote(\"Alice\")\n",
    "       print(response)\n",
    "   ```\n",
    "\n",
    "5. **Deploy the App**  \n",
    "   ```bash\n",
    "   modal deploy my_modal_app.py\n",
    "   ```\n",
    "\n",
    "---\n",
    "\n",
    "### **Function vs. Module Deployment**  \n",
    "\n",
    "- **Script-Based Deployment:**  \n",
    "  ```bash\n",
    "  modal deploy my_service.py\n",
    "  ```  \n",
    "  This deploys `my_service.py` as a standalone Modal service, allowing function lookup using `modal.Function.lookup()`.\n",
    "\n",
    "- **Module-Based Deployment (`-m` Flag):**  \n",
    "  ```bash\n",
    "  modal deploy -m my_package.my_service\n",
    "  ```  \n",
    "  This deploys `my_service` as a module within a package, enabling class-based lookup using `modal.Cls.lookup()`.\n",
    "\n",
    "### **Official Documentation**  \n",
    "For detailed guides and API references, visit: [Modal Documentation](https://modal.com/docs).  \n",
    "\n",
    "Let me know if you need a more tailored explanation!"
   ]
  },
  {
   "cell_type": "code",
   "execution_count": null,
   "id": "226d7436",
   "metadata": {},
   "outputs": [],
   "source": [
    "import modal"
   ]
  },
  {
   "cell_type": "code",
   "execution_count": null,
   "id": "e54e9319",
   "metadata": {},
   "outputs": [],
   "source": [
    "# Uncomment and run the line below if you haven't set up Modal on your machine\n",
    "# !modal setup"
   ]
  },
  {
   "cell_type": "markdown",
   "id": "44f5146c",
   "metadata": {},
   "source": [
    "### **Importing and Running the Modal App**\n"
   ]
  },
  {
   "cell_type": "code",
   "execution_count": null,
   "id": "1831402c",
   "metadata": {},
   "outputs": [],
   "source": [
    "# Local Run\n",
    "\n",
    "from hello import app, hello, hello_europe\n",
    "\n",
    "with app.run():\n",
    "    test_output = hello.local()\n",
    "test_output"
   ]
  },
  {
   "cell_type": "code",
   "execution_count": null,
   "metadata": {},
   "outputs": [],
   "source": [
    "# Runing remotely\n",
    "\n",
    "with app.run():\n",
    "    test_output = hello.remote()\n",
    "test_output"
   ]
  },
  {
   "cell_type": "markdown",
   "id": "c50f6787",
   "metadata": {},
   "source": [
    "### **Configuring Hugging Face Token to work with Modal**\n",
    "\n",
    "To use Hugging Face models with Modal, set up a secret token:\n",
    "1. Sign in to modal.com\n",
    "2. Navigate to the Secrets section in the dashboard\n",
    "3. Create a new secret named `hf-secret` and store your Hugging Face API key there."
   ]
  },
  {
   "cell_type": "code",
   "execution_count": null,
   "id": "7b6d6abe",
   "metadata": {},
   "outputs": [],
   "source": [
    "## Working with Llama Model\n",
    "\n",
    "from llama import app, generate\n",
    "\n",
    "with modal.enable_output():\n",
    "    with app.run():\n",
    "        result = generate.remote(\"Life is a mystery, everyone must stand alone, I hear\")\n",
    "result"
   ]
  },
  {
   "cell_type": "code",
   "execution_count": null,
   "metadata": {},
   "outputs": [],
   "source": [
    "## Pricing API via Modal\n",
    "\n",
    "from DealSeeker_pricer_ephemeral import app, price\n",
    "\n",
    "with modal.enable_output():\n",
    "    with app.run():\n",
    "        result = price.remote(\"Quadcast HyperX condenser mic, connects via usb-c to your computer for crystal clear audio\")\n",
    "result"
   ]
  },
  {
   "cell_type": "markdown",
   "id": "3a37e937",
   "metadata": {},
   "source": [
    "### **Deploying Modal Services**\n",
    "\n"
   ]
  },
  {
   "cell_type": "code",
   "execution_count": null,
   "id": "a3a197f1",
   "metadata": {},
   "outputs": [],
   "source": [
    "!modal deploy DealSeeker_pricer_service.py\n"
   ]
  },
  {
   "cell_type": "code",
   "execution_count": null,
   "id": "556ee4f0",
   "metadata": {},
   "outputs": [],
   "source": [
    "pricer = modal.Function.lookup(\"pricer-service\", \"price\")\n",
    "response = pricer.remote(\"Quadcast HyperX condenser mic, connects via usb-c to your computer for crystal clear audio\")\n",
    "response\n"
   ]
  },
  {
   "cell_type": "code",
   "execution_count": null,
   "metadata": {},
   "outputs": [],
   "source": [
    "!modal deploy -m DealSeeker_pro_pricer_service.py\n"
   ]
  },
  {
   "cell_type": "code",
   "execution_count": null,
   "metadata": {},
   "outputs": [],
   "source": [
    "Pricer = modal.Cls.lookup(\"pricer-service\", \"Pricer\")\n",
    "pricer_instance = Pricer()\n",
    "response = pricer_instance.price.remote(\"Quadcast HyperX condenser mic, connects via usb-c to your computer for crystal clear audio\")\n",
    "response"
   ]
  },
  {
   "cell_type": "markdown",
   "id": "2ed687b3",
   "metadata": {},
   "source": [
    "### **Observations:**\n",
    "\n",
    "- **Without `-m` (!modal deploy DealSeeker_pricer_service.py)**: Deploys `DealSeeker_pricer_service.py` as a standalone Modal service, allowing function lookup via `modal.Function.lookup()`. The `price` function is called remotely.  \n",
    "\n",
    "- **With `-m` (!modal deploy -m DealSeeker_pro_pricer_service.py)**: Deploys `DealSeeker_pro_pricer_service.py` as a Python module, allowing class-based lookup via `modal.Cls.lookup()`. An instance of `Pricer` is created to call the `price` method remotely.\n",
    "\n",
    "---\n",
    "\n",
    "### **Optional: Keeping Modal Services Warm**\n",
    "\n",
    "- Prevent services from idling to improve response time.\n",
    "- Use `keep_warm.py` to ping the service every 30 seconds.\n",
    "\n",
    "    **Run in a separate terminal:**\n",
    "\n",
    "    ```python\n",
    "    python keep_warm.py\n",
    "    ```"
   ]
  },
  {
   "cell_type": "markdown",
   "id": "8eca18b3",
   "metadata": {},
   "source": [
    "---\n",
    "\n",
    "### **Implementing the Specialist Agent**"
   ]
  },
  {
   "cell_type": "code",
   "execution_count": null,
   "id": "e50482a1",
   "metadata": {},
   "outputs": [],
   "source": [
    "!pip install --upgrade modal"
   ]
  },
  {
   "cell_type": "code",
   "execution_count": null,
   "metadata": {},
   "outputs": [],
   "source": [
    "from agents.specialist_agent import SpecialistAgent\n",
    "\n",
    "agent = SpecialistAgent()\n",
    "result = agent.price(\"iPad Pro 2nd generation\")\n",
    "result"
   ]
  },
  {
   "cell_type": "code",
   "execution_count": null,
   "id": "0d30d51e",
   "metadata": {},
   "outputs": [],
   "source": []
  }
 ],
 "metadata": {
  "kernelspec": {
   "display_name": "llms",
   "language": "python",
   "name": "python3"
  },
  "language_info": {
   "codemirror_mode": {
    "name": "ipython",
    "version": 3
   },
   "file_extension": ".py",
   "mimetype": "text/x-python",
   "name": "python",
   "nbconvert_exporter": "python",
   "pygments_lexer": "ipython3",
   "version": "3.11.11"
  }
 },
 "nbformat": 4,
 "nbformat_minor": 5
}
