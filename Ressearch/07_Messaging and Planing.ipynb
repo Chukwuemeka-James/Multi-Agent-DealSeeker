{
 "cells": [
  {
   "cell_type": "markdown",
   "id": "675c6d55",
   "metadata": {},
   "source": [
    "### **The backbone of DealSeek** \n",
    "\n",
    "## Overview\n",
    "\n",
    "The key components of the `DealSeek`::\n",
    "\n",
    "1. **Messaging Agent** – Sends push notifications using Pushover.\n",
    "2. **Planning Agent** – Coordinates various activities in our agent-based framework.\n",
    "3. **Agent Framework** – Combines multiple agents to work together effectively.\n",
    "\n",
    "We will use **Pushover**, a platform for sending real-time notifications to devices.\n",
    "\n",
    "### Pushover Setup\n",
    "To use Pushover, set up a free account and add these tokens to your `.env` file:\n",
    "```\n",
    "PUSHOVER_USER=xxx\n",
    "PUSHOVER_TOKEN=xxx\n",
    "```\n",
    "For more details, refer to [Pushover's official documentation](https://pushover.net/api).\n",
    "\n",
    "### 1. Importing Dependencies"
   ]
  },
  {
   "cell_type": "code",
   "execution_count": null,
   "id": "c02d2ee7",
   "metadata": {},
   "outputs": [],
   "source": [
    "from dotenv import load_dotenv\n",
    "from agents.messaging_agent import MessagingAgent"
   ]
  },
  {
   "cell_type": "markdown",
   "id": "41dbd19d",
   "metadata": {},
   "source": [
    "### 2. Loading Environment Variables\n"
   ]
  },
  {
   "cell_type": "code",
   "execution_count": null,
   "id": "44c39f8d",
   "metadata": {},
   "outputs": [],
   "source": [
    "load_dotenv(override=True)\n",
    "DB = \"products_vectorstore\""
   ]
  },
  {
   "cell_type": "markdown",
   "id": "3a57d6c8",
   "metadata": {},
   "source": [
    "### 3. Messaging Agent\n",
    "- Initializes the `MessagingAgent` and sends a push notification with an important message."
   ]
  },
  {
   "cell_type": "code",
   "execution_count": null,
   "id": "d0f29508",
   "metadata": {},
   "outputs": [],
   "source": [
    "agent = MessagingAgent()\n",
    "agent.push(\"MASSIVE NEWS!!!\")"
   ]
  },
  {
   "cell_type": "markdown",
   "id": "58148040",
   "metadata": {},
   "source": [
    "### 4. Setting Up Database for Planning Agent\n",
    "- Connects to a vector database for product storage and retrieval."
   ]
  },
  {
   "cell_type": "code",
   "execution_count": null,
   "metadata": {},
   "outputs": [],
   "source": [
    "import chromadb\n",
    "DB = \"products_vectorstore\"\n",
    "client = chromadb.PersistentClient(path=DB)\n",
    "collection = client.get_or_create_collection('products')"
   ]
  },
  {
   "cell_type": "markdown",
   "id": "33ff3d17",
   "metadata": {},
   "source": [
    "### 5. Planning Agent\n"
   ]
  },
  {
   "cell_type": "code",
   "execution_count": null,
   "id": "1741ee37",
   "metadata": {},
   "outputs": [],
   "source": [
    "from agents.planning_agent import PlanningAgent\n",
    "planner = PlanningAgent(collection)\n",
    "planner.plan()"
   ]
  },
  {
   "cell_type": "markdown",
   "id": "1c7d3811",
   "metadata": {},
   "source": [
    "- Initializes the `PlanningAgent`.\n",
    "- Calls `plan()` to coordinate tasks within the system."
   ]
  },
  {
   "cell_type": "code",
   "execution_count": null,
   "id": "2bcb4cb1",
   "metadata": {},
   "outputs": [],
   "source": []
  }
 ],
 "metadata": {
  "kernelspec": {
   "display_name": "Python 3 (ipykernel)",
   "language": "python",
   "name": "python3"
  },
  "language_info": {
   "codemirror_mode": {
    "name": "ipython",
    "version": 3
   },
   "file_extension": ".py",
   "mimetype": "text/x-python",
   "name": "python",
   "nbconvert_exporter": "python",
   "pygments_lexer": "ipython3",
   "version": "3.11.11"
  }
 },
 "nbformat": 4,
 "nbformat_minor": 5
}
