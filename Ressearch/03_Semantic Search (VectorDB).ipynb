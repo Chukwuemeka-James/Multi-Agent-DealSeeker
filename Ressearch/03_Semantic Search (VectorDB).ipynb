{
 "cells": [
  {
   "cell_type": "markdown",
   "id": "a2607ed4",
   "metadata": {},
   "source": [
    "### **Semantic Search for Price Estimation**  \n",
    "\n",
    "#### **Objective**  \n",
    "This notebook demonstrates how **semantic search** enhances price estimation by retrieving similar products from a vector database. It covers:  \n",
    "1. **Embedding Generation**: Using `all-MiniLM-L6-v2` to create dense vector representations of product descriptions.  \n",
    "2. **Vector Database Setup**: Storing 400K+ products in ChromaDB for efficient similarity search.  \n",
    "3. **Visualization**: t-SNE plots to validate clustering by product categories.  \n",
    "4. **Downstream Use Case**: Preparing the foundation for RAG-based price prediction (to be integrated with an LLM in later steps).  \n"
   ]
  },
  {
   "cell_type": "code",
   "execution_count": null,
   "id": "f53c75e1",
   "metadata": {},
   "outputs": [],
   "source": [
    "# imports\n",
    "\n",
    "import os\n",
    "import re\n",
    "import math\n",
    "import json\n",
    "from tqdm import tqdm\n",
    "import random\n",
    "from dotenv import load_dotenv\n",
    "from huggingface_hub import login\n",
    "import numpy as np\n",
    "import pickle\n",
    "from sentence_transformers import SentenceTransformer\n",
    "from datasets import load_dataset\n",
    "import chromadb\n",
    "from utils.items import Item\n",
    "from sklearn.manifold import TSNE\n",
    "import plotly.graph_objects as go"
   ]
  },
  {
   "cell_type": "code",
   "execution_count": null,
   "metadata": {},
   "outputs": [],
   "source": [
    "# Environment setup\n",
    "load_dotenv(override=True)\n",
    "os.environ['HF_TOKEN'] = os.getenv('HF_TOKEN')\n",
    "DB = \"products_vectorstore\"\n",
    "\n",
    "# HuggingFace login\n",
    "login(os.environ['HF_TOKEN'], add_to_git_credential=True)"
   ]
  },
  {
   "cell_type": "markdown",
   "id": "81a8552e",
   "metadata": {},
   "source": [
    "### 1. Data Preparation\n"
   ]
  },
  {
   "cell_type": "code",
   "execution_count": null,
   "id": "e2b52c9c",
   "metadata": {},
   "outputs": [],
   "source": [
    "# Load pre-processed training data\n",
    "with open('train.pkl', 'rb') as file:\n",
    "    train = pickle.load(file)\n",
    "\n",
    "# Sample product description\n",
    "train[0].prompt "
   ]
  },
  {
   "cell_type": "markdown",
   "id": "5ab4201a",
   "metadata": {},
   "source": [
    "### 2. Vector Database Setup\n"
   ]
  },
  {
   "cell_type": "code",
   "execution_count": null,
   "id": "eb590e8d",
   "metadata": {},
   "outputs": [],
   "source": [
    "# Initialize ChromaDB\n",
    "client = chromadb.PersistentClient(path=DB)"
   ]
  },
  {
   "cell_type": "code",
   "execution_count": null,
   "id": "d81c0e6b",
   "metadata": {},
   "outputs": [],
   "source": [
    "# Create fresh collection: Check if the collection exists and delete it if it does\n",
    "\n",
    "collection_name = \"products\"\n",
    "existing_collection_names = [collection.name for collection in client.list_collections()]\n",
    "if collection_name in existing_collection_names:\n",
    "    client.delete_collection(collection_name)\n",
    "    print(f\"Deleted existing collection: {collection_name}\")\n",
    "\n",
    "collection = client.create_collection(collection_name)"
   ]
  },
  {
   "cell_type": "markdown",
   "id": "56af6f24",
   "metadata": {},
   "source": [
    "**Windows Tip**: Use `chromadb==0.5.0` if crashes occur.\n",
    "\n",
    "---\n",
    "\n",
    "### 3. Embedding Model\n"
   ]
  },
  {
   "cell_type": "code",
   "execution_count": null,
   "id": "7c0a98f9",
   "metadata": {},
   "outputs": [],
   "source": [
    "# Initialize sentence transformer\n",
    "model = SentenceTransformer('sentence-transformers/all-MiniLM-L6-v2')\n",
    "\n",
    "# Example embedding\n",
    "vector = model.encode([\"Sample product\"])[0]"
   ]
  },
  {
   "cell_type": "markdown",
   "id": "0b5344e4",
   "metadata": {},
   "source": [
    "**Why This Model?**\n",
    "- Local execution (no need for API calls)\n",
    "- 384-dimension embeddings\n",
    "- Optimized for semantic search\n",
    "\n",
    "---\n",
    "\n",
    "### 4. Populating the Vector Store\n"
   ]
  },
  {
   "cell_type": "code",
   "execution_count": null,
   "metadata": {},
   "outputs": [],
   "source": [
    "def description(item):\n",
    "    \"\"\"Extracts clean product description from prompt\"\"\"\n",
    "    text = item.prompt.replace(\"How much does this cost to the nearest dollar?\\n\\n\", \"\")\n",
    "    return text.split(\"\\n\\nPrice is $\")[0]\n"
   ]
  },
  {
   "cell_type": "code",
   "execution_count": null,
   "id": "c22f64cd",
   "metadata": {},
   "outputs": [],
   "source": [
    "# Batch insert products\n",
    "for i in tqdm(range(0, len(train), 1000)):\n",
    "    documents = [description(item) for item in train[i: i+1000]]\n",
    "    vectors = model.encode(documents).astype(float).tolist()\n",
    "    metadatas = [{\"category\": item.category, \"price\": item.price} for item in train[i: i+1000]]\n",
    "    ids = [f\"doc_{j}\" for j in range(i, i+1000)]\n",
    "    collection.add(\n",
    "        ids=ids,\n",
    "        documents=documents,\n",
    "        embeddings=vectors,\n",
    "        metadatas=metadatas\n",
    "    )"
   ]
  },
  {
   "cell_type": "markdown",
   "id": "fb9e8543",
   "metadata": {},
   "source": [
    "### 5. Data Visualization\n"
   ]
  },
  {
   "cell_type": "code",
   "execution_count": null,
   "id": "62cd88c0",
   "metadata": {},
   "outputs": [],
   "source": [
    "# Configuration\n",
    "\n",
    "MAX_DATAPOINTS = 30_000  # Adjust based on system capability\n",
    "\n",
    "DB = \"products_vectorstore\"\n",
    "client = chromadb.PersistentClient(path=DB)\n",
    "collection = client.get_or_create_collection('products')"
   ]
  },
  {
   "cell_type": "code",
   "execution_count": null,
   "id": "16bfa4f6",
   "metadata": {},
   "outputs": [],
   "source": [
    "CATEGORIES = ['Appliances', 'Automotive', 'Cell_Phones_and_Accessories', 'Electronics','Musical_Instruments', 'Office_Products', 'Tools_and_Home_Improvement', 'Toys_and_Games']\n",
    "COLORS = ['red', 'blue', 'brown', 'orange', 'yellow', 'green' , 'purple', 'cyan']"
   ]
  },
  {
   "cell_type": "code",
   "execution_count": null,
   "id": "a2c838df",
   "metadata": {},
   "outputs": [],
   "source": [
    "# Prework: Get data for visualization\n",
    "\n",
    "result = collection.get(include=['embeddings', 'documents', 'metadatas'], limit=MAXIMUM_DATAPOINTS)\n",
    "vectors = np.array(result['embeddings'])\n",
    "documents = result['documents']\n",
    "categories = [metadata['category'] for metadata in result['metadatas']]\n",
    "colors = [COLORS[CATEGORIES.index(c)] for c in categories]"
   ]
  },
  {
   "cell_type": "markdown",
   "id": "b5fd636d",
   "metadata": {},
   "source": [
    "### Dimensionality reduction"
   ]
  },
  {
   "cell_type": "code",
   "execution_count": null,
   "id": "db5753e9",
   "metadata": {},
   "outputs": [],
   "source": [
    "# Dimensionality reduction: 2D\n",
    "\n",
    "tsne = TSNE(n_components=2, random_state=42, n_jobs=-1)\n",
    "reduced_vectors = tsne.fit_transform(vectors)"
   ]
  },
  {
   "cell_type": "code",
   "execution_count": null,
   "id": "2b283b3a",
   "metadata": {},
   "outputs": [],
   "source": [
    "# Create the 2D scatter plot\n",
    "fig = go.Figure(data=[go.Scatter(\n",
    "    x=reduced_vectors[:, 0],\n",
    "    y=reduced_vectors[:, 1],\n",
    "    mode='markers',\n",
    "    marker=dict(size=3, color=colors, opacity=0.7),\n",
    ")])\n",
    "\n",
    "fig.update_layout(\n",
    "    title='2D Chroma Vectorstore Visualization',\n",
    "    scene=dict(xaxis_title='x', yaxis_title='y'),\n",
    "    width=1200,\n",
    "    height=800,\n",
    "    margin=dict(r=20, b=10, l=10, t=40)\n",
    ")\n",
    "\n",
    "fig.show()"
   ]
  },
  {
   "cell_type": "markdown",
   "id": "76a92984",
   "metadata": {},
   "source": [
    "**Visualization Insights**:\n",
    "- Shows product clustering by category\n",
    "- Helps validate embedding quality\n",
    "- Interactive exploration of product space\n",
    "\n",
    "### Key Takeaways\n",
    "\n",
    "1. **Vector Search Foundation**: Built a 400K product vector database\n",
    "2. **Local Embeddings**: Used sentence-transformers for efficient local processing\n",
    "3. **Visual Validation**: Confirmed meaningful embedding space organization"
   ]
  },
  {
   "cell_type": "code",
   "execution_count": null,
   "metadata": {},
   "outputs": [],
   "source": []
  }
 ],
 "metadata": {
  "kernelspec": {
   "display_name": "llms",
   "language": "python",
   "name": "python3"
  },
  "language_info": {
   "codemirror_mode": {
    "name": "ipython",
    "version": 3
   },
   "file_extension": ".py",
   "mimetype": "text/x-python",
   "name": "python",
   "nbconvert_exporter": "python",
   "pygments_lexer": "ipython3",
   "version": "3.11.11"
  }
 },
 "nbformat": 4,
 "nbformat_minor": 5
}
