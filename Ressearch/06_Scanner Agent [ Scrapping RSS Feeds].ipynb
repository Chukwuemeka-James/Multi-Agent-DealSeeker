{
 "cells": [
  {
   "cell_type": "markdown",
   "id": "648bbd14",
   "metadata": {},
   "source": [
    "## **Building an Intelligent Scanning Agent for Identifying Deals Using RSS Feeds**\n",
    "\n",
    "\n",
    "### **Objectives:**\n",
    "1. Integrating RSS (Really Simple Syndication) feeds in deal monitoring.\n",
    "2. Scrape and filter deals using a ScanningAgent.\n",
    "3. Implement a GPT-powered selection mechanism for filtering high-quality deals.\n",
    "4. Develop an automated pipeline for deal selection and analysis.\n",
    "\n",
    "\n",
    "### **Introduction to RSS Feeds**\n",
    "RSS (Really Simple Syndication) feeds allow users to receive updates from various sources automatically. This technology is widely used for tracking news, blogs, and online deals. In this session, we will build a ScanningAgent that continuously scans RSS feeds for the best available deals.\n",
    "\n",
    "### **1. Importing Required Libraries**\n"
   ]
  },
  {
   "cell_type": "code",
   "execution_count": null,
   "id": "b560cd77",
   "metadata": {},
   "outputs": [],
   "source": [
    "import os\n",
    "import json\n",
    "from dotenv import load_dotenv\n",
    "from openai import OpenAI\n",
    "from Core.deals import ScrapedDeal, DealSelection"
   ]
  },
  {
   "cell_type": "markdown",
   "id": "32ee0acc",
   "metadata": {},
   "source": [
    "### **2. Setting Up the Environment**\n"
   ]
  },
  {
   "cell_type": "code",
   "execution_count": null,
   "id": "277db549",
   "metadata": {},
   "outputs": [],
   "source": [
    "load_dotenv(override=True)\n",
    "os.environ['OPENAI_API_KEY'] = os.getenv('OPENAI_API_KEY')\n",
    "MODEL = 'gpt-4o-mini'\n",
    "openai = OpenAI()"
   ]
  },
  {
   "cell_type": "markdown",
   "id": "dead0827",
   "metadata": {},
   "source": [
    "### **3. Scraping Deals from RSS Feeds**\n"
   ]
  },
  {
   "cell_type": "code",
   "execution_count": null,
   "metadata": {},
   "outputs": [],
   "source": [
    "deals = ScrapedDeal.fetch(show_progress=True)\n",
    "len(deals)"
   ]
  },
  {
   "cell_type": "markdown",
   "id": "fc2f250d",
   "metadata": {},
   "source": [
    "- The `fetch()` method retrieves a list of deals from predefined RSS feeds.\n",
    "- The length of the `deals` list represents the number of deals scraped.\n",
    "\n",
    "### **4. Describing Individual Deals**\n"
   ]
  },
  {
   "cell_type": "code",
   "execution_count": null,
   "metadata": {},
   "outputs": [],
   "source": [
    "deals[44].describe()\n"
   ]
  },
  {
   "cell_type": "markdown",
   "id": "ad578647",
   "metadata": {},
   "source": [
    "### **5. Defining a System Prompt for Filtering Deals**\n"
   ]
  },
  {
   "cell_type": "code",
   "execution_count": null,
   "id": "eef24082",
   "metadata": {},
   "outputs": [],
   "source": [
    "system_prompt = \"\"\"You identify and summarize the 5 most detailed deals from a list, by selecting deals that have the most detailed, high quality description and the most clear price.\n",
    "Respond strictly in JSON with no explanation, using this format. You should provide the price as a number derived from the description. If the price of a deal isn't clear, do not include that deal in your response.\n",
    "Most important is that you respond with the 5 deals that have the most detailed product description with price. It's not important to mention the terms of the deal; most important is a thorough description of the product.\n",
    "Be careful with products that are described as \"$XXX off\" or \"reduced by $XXX\" - this isn't the actual price of the product. Only respond with products when you are highly confident about the price. \n",
    "\n",
    "{\"deals\": [\n",
    "    {\n",
    "        \"product_description\": \"Your clearly expressed summary of the product in 4-5 sentences. Details of the item are much more important than why it's a good deal. Avoid mentioning discounts and coupons; focus on the item itself. There should be a paragpraph of text for each item you choose.\",\n",
    "        \"price\": 99.99,\n",
    "        \"url\": \"the url as provided\"\n",
    "    },\n",
    "    ...\n",
    "]}\"\"\""
   ]
  },
  {
   "cell_type": "markdown",
   "id": "0e0d62a5",
   "metadata": {},
   "source": [
    "- This prompt instructs the GPT model to filter out low-quality deals and summarize product descriptions concisely.\n",
    "- The model ensures price clarity and avoids misleading discounts.\n",
    "\n",
    "### **6. Formatting the User Request**\n"
   ]
  },
  {
   "cell_type": "code",
   "execution_count": null,
   "id": "d090fa7d",
   "metadata": {},
   "outputs": [],
   "source": [
    "user_prompt = \"\"\"Respond with the most promising 5 deals from this list, selecting those which have the most detailed, high quality product description and a clear price.\n",
    "Respond strictly in JSON, and only JSON. You should rephrase the description to be a summary of the product itself, not the terms of the deal.\n",
    "Remember to respond with a paragraph of text in the product_description field for each of the 5 items that you select.\n",
    "Be careful with products that are described as \"$XXX off\" or \"reduced by $XXX\" - this isn't the actual price of the product. Only respond with products when you are highly confident about the price. \n",
    "\n",
    "Deals:\n",
    "\n",
    "\"\"\"\n",
    "user_prompt += '\\n\\n'.join([deal.describe() for deal in deals])"
   ]
  },
  {
   "cell_type": "code",
   "execution_count": null,
   "id": "2cf2f7b8",
   "metadata": {},
   "outputs": [],
   "source": [
    "print(user_prompt[:2000])"
   ]
  },
  {
   "cell_type": "markdown",
   "id": "824b558a",
   "metadata": {},
   "source": [
    "- This creates a user input prompt containing all deal descriptions.\n",
    "- It ensures that only deals with clear pricing are considered.\n",
    "\n",
    "### **7. Generating GPT-Powered Deal Recommendations**\n"
   ]
  },
  {
   "cell_type": "code",
   "execution_count": null,
   "id": "c7571b29",
   "metadata": {},
   "outputs": [],
   "source": [
    "def get_recommendations():\n",
    "    completion = openai.beta.chat.completions.parse(\n",
    "        model=\"gpt-4o-mini\",\n",
    "        messages=[\n",
    "            {\"role\": \"system\", \"content\": system_prompt},\n",
    "            {\"role\": \"user\", \"content\": user_prompt}\n",
    "      ],\n",
    "        response_format=DealSelection\n",
    "    )\n",
    "    result = completion.choices[0].message.parsed\n",
    "    return result"
   ]
  },
  {
   "cell_type": "markdown",
   "id": "e0adc58f",
   "metadata": {},
   "source": [
    "- This function sends deal descriptions to the GPT model.\n",
    "- The model selects the top five most detailed deals based on product descriptions.\n",
    "\n",
    "### **8. Running the Recommendation Model**\n"
   ]
  },
  {
   "cell_type": "code",
   "execution_count": null,
   "id": "5ff12661",
   "metadata": {},
   "outputs": [],
   "source": [
    "result = get_recommendations()\n",
    "len(result.deals)"
   ]
  },
  {
   "cell_type": "code",
   "execution_count": null,
   "id": "1d6dd6e6",
   "metadata": {},
   "outputs": [],
   "source": [
    "result.deals[1]"
   ]
  },
  {
   "cell_type": "markdown",
   "id": "8780e8c6",
   "metadata": {},
   "source": [
    "- The function returns the filtered list of deals.\n",
    "- We can inspect the selected deals.\n",
    "\n",
    "### **9. Automating with a ScanningAgent**\n"
   ]
  },
  {
   "cell_type": "code",
   "execution_count": null,
   "id": "593b7820",
   "metadata": {},
   "outputs": [],
   "source": [
    "from agents.scanner_agent import ScannerAgent\n",
    "agent = ScannerAgent()\n",
    "result = agent.scan()\n",
    "result"
   ]
  },
  {
   "cell_type": "markdown",
   "id": "478d55e7",
   "metadata": {},
   "source": [
    "- The `ScannerAgent` automates the scanning process, ensuring continuous deal updates.\n",
    "- The `scan()` method retrieves and filters deals automatically."
   ]
  },
  {
   "cell_type": "code",
   "execution_count": null,
   "id": "f7ade915",
   "metadata": {},
   "outputs": [],
   "source": []
  }
 ],
 "metadata": {
  "kernelspec": {
   "display_name": "Python 3 (ipykernel)",
   "language": "python",
   "name": "python3"
  },
  "language_info": {
   "codemirror_mode": {
    "name": "ipython",
    "version": 3
   },
   "file_extension": ".py",
   "mimetype": "text/x-python",
   "name": "python",
   "nbconvert_exporter": "python",
   "pygments_lexer": "ipython3",
   "version": "3.11.11"
  }
 },
 "nbformat": 4,
 "nbformat_minor": 5
}
