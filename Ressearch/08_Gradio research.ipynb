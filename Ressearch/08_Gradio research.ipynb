{
 "cells": [
  {
   "cell_type": "markdown",
   "id": "69db9e2b",
   "metadata": {},
   "source": [
    "## DealSeeker - User Interface (UI) Implementation\n",
    "\n",
    "This section focuses on building a `User Interface (UI)` for `\"DealSeeker\"` deal-hunting system using `Gradio`. Gradio is a Python library that makes it easy to build and share user interfaces for machine learning models and other applications with just a few lines of code. It supports interactive components like buttons, text inputs, and data visualizations.  \n",
    "\n",
    "[Gradio Documentation](https://www.gradio.app)"
   ]
  },
  {
   "cell_type": "code",
   "execution_count": null,
   "id": "c30abe6f",
   "metadata": {},
   "outputs": [],
   "source": [
    "# Importing Required Modules\n",
    "\n",
    "import gradio as gr\n",
    "from Core.deal_agent_framework import DealAgentFramework\n",
    "from Core.deals import Opportunity, Deal"
   ]
  },
  {
   "cell_type": "markdown",
   "id": "2247aa50",
   "metadata": {},
   "source": [
    "### **Initializing the Deal Agent Framework**\n"
   ]
  },
  {
   "cell_type": "code",
   "execution_count": null,
   "id": "898f49f5",
   "metadata": {},
   "outputs": [],
   "source": [
    "agent_framework = DealAgentFramework()\n",
    "agent_framework.init_agents_as_needed()"
   ]
  },
  {
   "cell_type": "markdown",
   "id": "255f0d1d",
   "metadata": {},
   "source": [
    "This initializes the **DealAgentFramework**, ensuring that all necessary agents (e.g., scanning, messaging, and planning agents) are available.\n",
    "\n",
    "---\n",
    "\n",
    "### **Gradio Demo**"
   ]
  },
  {
   "cell_type": "code",
   "execution_count": null,
   "id": "9babbf79",
   "metadata": {},
   "outputs": [],
   "source": [
    "with gr.Blocks(title=\"The Price is Right\", fill_width=True) as ui:\n",
    "\n",
    "    with gr.Row():\n",
    "        gr.Markdown('<div style=\"text-align: center;font-size:24px\">The Price is Right - Deal Hunting Agentic AI</div>')\n",
    "    with gr.Row():\n",
    "        gr.Markdown('<div style=\"text-align: center;font-size:14px\">Autonomous agent framework that finds online deals, collaborating with a proprietary fine-tuned LLM deployed on Modal, and a RAG pipeline with a frontier model and Chroma.</div>')\n",
    "        \n",
    "\n",
    "ui.launch(inbrowser=True)"
   ]
  },
  {
   "cell_type": "markdown",
   "id": "de168a5a",
   "metadata": {},
   "source": [
    "### **DealSeeker Gradio UI**"
   ]
  },
  {
   "cell_type": "code",
   "execution_count": null,
   "id": "b5082306",
   "metadata": {},
   "outputs": [],
   "source": [
    "agent_framework = DealAgentFramework()\n",
    "agent_framework.init_agents_as_needed()\n",
    "\n",
    "with gr.Blocks(title=\"The Price is Right\", fill_width=True) as ui:\n",
    "\n",
    "    initial_deal = Deal(product_description=\"Example description\", price=100.0, url=\"https://cnn.com\")\n",
    "    initial_opportunity = Opportunity(deal=initial_deal, estimate=200.0, discount=100.0)\n",
    "    opportunities = gr.State([initial_opportunity])\n",
    "\n",
    "    def get_table(opps):\n",
    "        return [[opp.deal.product_description, opp.deal.price, opp.estimate, opp.discount, opp.deal.url] for opp in opps]\n",
    "\n",
    "    def do_select(opportunities, selected_index: gr.SelectData):\n",
    "        row = selected_index.index[0]\n",
    "        opportunity = opportunities[row]\n",
    "        agent_framework.planner.messenger.alert(opportunity)\n",
    "\n",
    "    with gr.Row():\n",
    "        gr.Markdown('<div style=\"text-align: center;font-size:24px\">\"The Price is Right\" - Deal Hunting Agentic AI</div>')\n",
    "    with gr.Row():\n",
    "        gr.Markdown('<div style=\"text-align: center;font-size:14px\">Deals surfaced so far:</div>')\n",
    "    with gr.Row():\n",
    "        opportunities_dataframe = gr.Dataframe(\n",
    "            headers=[\"Description\", \"Price\", \"Estimate\", \"Discount\", \"URL\"],\n",
    "            wrap=True,\n",
    "            column_widths=[4, 1, 1, 1, 2],\n",
    "            row_count=10,\n",
    "            col_count=5,\n",
    "            max_height=400,\n",
    "        )\n",
    "\n",
    "    ui.load(get_table, inputs=[opportunities], outputs=[opportunities_dataframe])\n",
    "    opportunities_dataframe.select(do_select, inputs=[opportunities], outputs=[])\n",
    "\n",
    "# Lunch\n",
    "ui.launch(inbrowser=True)\n",
    "\n"
   ]
  },
  {
   "cell_type": "markdown",
   "id": "aa4cd0f4",
   "metadata": {},
   "source": [
    "\n",
    "### **Breakdown of the UI code**\n",
    "**Setting Up UI Components**"
   ]
  },
  {
   "cell_type": "code",
   "execution_count": null,
   "id": "7530a1bb",
   "metadata": {},
   "outputs": [],
   "source": [
    "with gr.Blocks(title=\"The Price is Right\", fill_width=True) as ui:\n",
    "\n",
    "    initial_deal = Deal(product_description=\"Example description\", price=100.0, url=\"https://cnn.com\")\n",
    "    initial_opportunity = Opportunity(deal=initial_deal, estimate=200.0, discount=100.0)\n",
    "    opportunities = gr.State([initial_opportunity])"
   ]
  },
  {
   "cell_type": "markdown",
   "id": "c39a5bb4",
   "metadata": {},
   "source": [
    "- The **initial deal** serves as a placeholder until real data is loaded.\n",
    "- The **opportunities** list holds the deals surfaced by the agent.\n",
    "\n",
    "### Defining Table Display and Selection Handling"
   ]
  },
  {
   "cell_type": "code",
   "execution_count": null,
   "metadata": {},
   "outputs": [],
   "source": [
    "def get_table(opps):\n",
    "    return [[opp.deal.product_description, opp.deal.price, opp.estimate, opp.discount, opp.deal.url] for opp in opps]"
   ]
  },
  {
   "cell_type": "code",
   "execution_count": null,
   "id": "3e62a2cf",
   "metadata": {},
   "outputs": [],
   "source": [
    "def do_select(opportunities, selected_index: gr.SelectData):\n",
    "    row = selected_index.index[0]\n",
    "    opportunity = opportunities[row]\n",
    "    agent_framework.planner.messenger.alert(opportunity)"
   ]
  },
  {
   "cell_type": "markdown",
   "id": "cf1482b8",
   "metadata": {},
   "source": [
    "- `get_table()`: Formats the list of opportunities for display.\n",
    "- `do_select()`: Sends an alert when a user selects a deal.\n",
    "\n",
    "### UI Layout and Components"
   ]
  },
  {
   "cell_type": "code",
   "execution_count": null,
   "id": "3ee104c0",
   "metadata": {},
   "outputs": [],
   "source": [
    "with gr.Row():\n",
    "    gr.Markdown('<div style=\"text-align: center;font-size:24px\">\"The Price is Right\" - Deal Hunting Agentic AI</div>')\n",
    "\n",
    "with gr.Row():\n",
    "    gr.Markdown('<div style=\"text-align: center;font-size:14px\">Deals surfaced so far:</div>')\n",
    "\n",
    "with gr.Row():\n",
    "    opportunities_dataframe = gr.Dataframe(\n",
    "        headers=[\"Description\", \"Price\", \"Estimate\", \"Discount\", \"URL\"],\n",
    "        wrap=True,\n",
    "        column_widths=[4, 1, 1, 1, 2],\n",
    "        row_count=10,\n",
    "        col_count=5,\n",
    "        max_height=400,\n",
    "    )"
   ]
  },
  {
   "cell_type": "markdown",
   "id": "1d408798",
   "metadata": {},
   "source": [
    "This sets up the UI layout, including:\n",
    "- **Title and subtitle**\n",
    "- **Data table** for displaying deals with attributes like description, price, estimate, discount, and URL.\n",
    "\n",
    "### Loading and Interaction"
   ]
  },
  {
   "cell_type": "code",
   "execution_count": null,
   "id": "bfe442a3",
   "metadata": {},
   "outputs": [],
   "source": [
    "ui.load(get_table, inputs=[opportunities], outputs=[opportunities_dataframe])\n",
    "opportunities_dataframe.select(do_select, inputs=[opportunities], outputs=[])"
   ]
  },
  {
   "cell_type": "markdown",
   "metadata": {},
   "source": [
    "- The UI loads deals dynamically from the **DealAgentFramework**.\n",
    "- Users can **select a deal**, triggering an alert.\n",
    "\n",
    "### 7. Launching the UI"
   ]
  },
  {
   "cell_type": "code",
   "execution_count": null,
   "id": "06447afa",
   "metadata": {},
   "outputs": [],
   "source": [
    "ui.launch(inbrowser=True)"
   ]
  },
  {
   "cell_type": "code",
   "execution_count": null,
   "metadata": {},
   "outputs": [],
   "source": [
    "!python DealSeeker.py"
   ]
  },
  {
   "cell_type": "code",
   "execution_count": null,
   "id": "9fce650d",
   "metadata": {},
   "outputs": [],
   "source": []
  }
 ],
 "metadata": {
  "kernelspec": {
   "display_name": "Python 3 (ipykernel)",
   "language": "python",
   "name": "python3"
  },
  "language_info": {
   "codemirror_mode": {
    "name": "ipython",
    "version": 3
   },
   "file_extension": ".py",
   "mimetype": "text/x-python",
   "name": "python",
   "nbconvert_exporter": "python",
   "pygments_lexer": "ipython3",
   "version": "3.11.11"
  }
 },
 "nbformat": 4,
 "nbformat_minor": 5
}
